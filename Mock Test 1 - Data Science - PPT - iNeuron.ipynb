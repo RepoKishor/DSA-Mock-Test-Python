{
 "cells": [
  {
   "cell_type": "markdown",
   "id": "e7e34455-d7dc-43f4-9b76-8626144ed51e",
   "metadata": {},
   "source": [
    "## Q17 list comprehension"
   ]
  },
  {
   "cell_type": "code",
   "execution_count": 5,
   "id": "2b89d0c8-c76d-4aa8-b07b-0cb4cbb1d6a7",
   "metadata": {},
   "outputs": [
    {
     "name": "stdout",
     "output_type": "stream",
     "text": [
      "[2, 4, 6]\n"
     ]
    }
   ],
   "source": [
    "def evenNumList(li):\n",
    "    return [num for num in li if num%2==0]\n",
    "\n",
    "\n",
    "l1=[1,2,3,4,5,6]\n",
    "print(evenNumList(l1))"
   ]
  },
  {
   "cell_type": "code",
   "execution_count": null,
   "id": "07189910-3380-431f-a3ae-6cb676abe066",
   "metadata": {},
   "outputs": [],
   "source": [
    "## Q18"
   ]
  },
  {
   "cell_type": "code",
   "execution_count": 15,
   "id": "b8824812-2c24-4739-a1bd-e913e09ec51e",
   "metadata": {},
   "outputs": [
    {
     "name": "stdout",
     "output_type": "stream",
     "text": [
      "Function executed!\n",
      "Execution time: 2.01405930519104 seconds\n"
     ]
    },
    {
     "ename": "TypeError",
     "evalue": "'NoneType' object is not callable",
     "output_type": "error",
     "traceback": [
      "\u001b[1;31m---------------------------------------------------------------------------\u001b[0m",
      "\u001b[1;31mTypeError\u001b[0m                                 Traceback (most recent call last)",
      "Cell \u001b[1;32mIn[15], line 17\u001b[0m\n\u001b[0;32m     14\u001b[0m     time\u001b[38;5;241m.\u001b[39msleep(\u001b[38;5;241m2\u001b[39m)\n\u001b[0;32m     15\u001b[0m     \u001b[38;5;28mprint\u001b[39m(\u001b[38;5;124m\"\u001b[39m\u001b[38;5;124mFunction executed!\u001b[39m\u001b[38;5;124m\"\u001b[39m)\n\u001b[1;32m---> 17\u001b[0m \u001b[43mmy_function\u001b[49m\u001b[43m(\u001b[49m\u001b[43m)\u001b[49m\n",
      "\u001b[1;31mTypeError\u001b[0m: 'NoneType' object is not callable"
     ]
    }
   ],
   "source": [
    "import time\n",
    "\n",
    "def timer(func):\n",
    "    start_time = time.time()\n",
    "    called = func()\n",
    "    end_time = time.time()\n",
    "    execution_time = end_time - start_time\n",
    "    print(f\"Execution time: {execution_time} seconds\")\n",
    "    return called\n",
    "\n",
    "\n",
    "@timer\n",
    "def my_function():\n",
    "    time.sleep(2)\n",
    "    print(\"Function executed!\")\n",
    "\n",
    "my_function()"
   ]
  },
  {
   "cell_type": "code",
   "execution_count": null,
   "id": "f4b6969d-3224-4772-92fd-6710d475793b",
   "metadata": {},
   "outputs": [],
   "source": [
    "## Q19 "
   ]
  },
  {
   "cell_type": "code",
   "execution_count": 16,
   "id": "859e05f8-538d-4abf-9106-7e5cdea58087",
   "metadata": {},
   "outputs": [
    {
     "name": "stdout",
     "output_type": "stream",
     "text": [
      "Mean: 20.0\n"
     ]
    }
   ],
   "source": [
    "def calculate_mean(numbers):\n",
    "    total = sum(numbers)\n",
    "    count = len(numbers)\n",
    "    mean = total / count\n",
    "    return mean\n",
    "\n",
    "data = [10, 15, 20, 25, 30]\n",
    "mean_value = calculate_mean(data)\n",
    "print(\"Mean:\", mean_value)"
   ]
  },
  {
   "cell_type": "code",
   "execution_count": null,
   "id": "c14c2b95-cc48-4b1e-86e1-491d2b3cc7f7",
   "metadata": {},
   "outputs": [],
   "source": [
    "## Q20 "
   ]
  },
  {
   "cell_type": "code",
   "execution_count": 2,
   "id": "88f01615-c2cf-4668-a159-51411b6364c9",
   "metadata": {},
   "outputs": [],
   "source": [
    "from scipy.stats import ttest_ind"
   ]
  },
  {
   "cell_type": "code",
   "execution_count": 3,
   "id": "214a5229-d1b8-4178-9f8b-de74fb6d7cfa",
   "metadata": {},
   "outputs": [
    {
     "name": "stdout",
     "output_type": "stream",
     "text": [
      "t_statistic: -1.8973665961010275\n",
      "P-value: 0.09434977284243756\n"
     ]
    }
   ],
   "source": [
    "def perform_hypothesis_test(sample1, sample2):\n",
    "    t_statistic, p_value = ttest_ind(sample1, sample2)\n",
    "\n",
    "    return p_value, t_statistic\n",
    "\n",
    "sample1 = [1, 2, 3, 4, 5]\n",
    "sample2 = [2, 4, 6, 8, 10]\n",
    "p_value,t_statistic = perform_hypothesis_test(sample1, sample2)\n",
    "print(\"t_statistic:\", t_statistic)\n",
    "print(\"P-value:\", p_value)\n"
   ]
  },
  {
   "cell_type": "code",
   "execution_count": null,
   "id": "5d47763f-522b-476b-8b78-9b73ad77fbe0",
   "metadata": {},
   "outputs": [],
   "source": []
  }
 ],
 "metadata": {
  "kernelspec": {
   "display_name": "Python 3 (ipykernel)",
   "language": "python",
   "name": "python3"
  },
  "language_info": {
   "codemirror_mode": {
    "name": "ipython",
    "version": 3
   },
   "file_extension": ".py",
   "mimetype": "text/x-python",
   "name": "python",
   "nbconvert_exporter": "python",
   "pygments_lexer": "ipython3",
   "version": "3.10.9"
  }
 },
 "nbformat": 4,
 "nbformat_minor": 5
}
