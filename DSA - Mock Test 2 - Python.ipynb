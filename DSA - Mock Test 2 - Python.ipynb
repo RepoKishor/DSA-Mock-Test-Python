{
 "cells": [
  {
   "cell_type": "markdown",
   "id": "6bce1ff1-e419-459e-afba-c8b642998ba7",
   "metadata": {},
   "source": [
    "## Q1. Given a non-negative integer x, return the square root of x rounded down to the nearest integer. The returned integer should be non-negative as well. You must not use any built-in exponent function or operator."
   ]
  },
  {
   "cell_type": "code",
   "execution_count": 48,
   "id": "4e31e627-3cb0-4083-bd7e-0084daff870d",
   "metadata": {},
   "outputs": [],
   "source": [
    "def positiveSqquareRoot(n):\n",
    "    if n == 0:\n",
    "        return 0\n",
    "\n",
    "    left = 1\n",
    "    right = n//2\n",
    "\n",
    "    while left <= right:\n",
    "        mid = (left + right) // 2\n",
    "        if mid * mid == n:\n",
    "            return mid\n",
    "        elif mid * mid > n:\n",
    "            right = mid - 1\n",
    "        else:\n",
    "            left = mid + 1\n",
    "    #print(round(right))\n",
    "    return right"
   ]
  },
  {
   "cell_type": "code",
   "execution_count": 49,
   "id": "c64e2d79-dd4c-4b5f-9619-45a8c3cc8d98",
   "metadata": {},
   "outputs": [
    {
     "data": {
      "text/plain": [
       "2"
      ]
     },
     "execution_count": 49,
     "metadata": {},
     "output_type": "execute_result"
    }
   ],
   "source": [
    "positiveSqquareRoot(8)"
   ]
  },
  {
   "cell_type": "markdown",
   "id": "aebce647-7f55-4b3f-8faa-6244e7d85280",
   "metadata": {},
   "source": [
    "## Q2 You are given two non-empty linked lists representing two non-negative integers. The digits are stored in reverse order, and each of their nodes contains a single digit. Add the two numbers and return the sum as a linked list"
   ]
  },
  {
   "cell_type": "code",
   "execution_count": 38,
   "id": "f6229dbf-9391-4be5-8b6d-11a21f24382c",
   "metadata": {},
   "outputs": [],
   "source": [
    "class LinkedListNode:\n",
    "    def __init__(self, val):\n",
    "        self.val = val\n",
    "        self.next = None\n",
    "\n",
    "class LinkedList:\n",
    "    def __init__(self):\n",
    "        self.head = None\n",
    "        self.tail = None\n",
    "    def insert(self, val):\n",
    "        if self.head is None:\n",
    "            self.head = LinkedListNode(val)\n",
    "            self.tail = self.head\n",
    "        else:\n",
    "            self.tail.next = LinkedListNode(val)\n",
    "            self.tail = self.tail.next"
   ]
  },
  {
   "cell_type": "code",
   "execution_count": 54,
   "id": "3df0c834-8981-4cd4-b45e-f8e676b061eb",
   "metadata": {},
   "outputs": [],
   "source": [
    "class LinkedListOperation:\n",
    "    def __init__(self):\n",
    "        self.head = None\n",
    "        \n",
    "    def addLists(self, l1, l2):\n",
    "        q1 = []\n",
    "        q2 = []\n",
    "        while l1:\n",
    "            q1.append(l1.val)\n",
    "            l1 = l1.next\n",
    "        while l2:\n",
    "            q2.append(l2.val)\n",
    "            l2 = l2.next\n",
    "        q1 = [str(i) for i in q1]\n",
    "        s1 = int(\"\".join(q1[::-1]))\n",
    "        q2 = [str(i) for i in q2]\n",
    "        s2 = int(\"\".join(q2[::-1]))\n",
    "        s = s1+s2\n",
    "        s = [i for i in str(s)]\n",
    "        s = s[::-1]\n",
    "        l = Node(0)\n",
    "        head = l\n",
    "        for i in s:\n",
    "            l.next = Node(i)\n",
    "            l = l.next\n",
    "        return head.next\n",
    "\n",
    "def printList(ref):\n",
    "    while ref:\n",
    "        print(ref.data,end='-->')\n",
    "        ref = ref.next\n",
    "    print(\"None\")"
   ]
  },
  {
   "cell_type": "code",
   "execution_count": 55,
   "id": "a6944c57-8da9-4e2d-9b40-faceab87c11c",
   "metadata": {},
   "outputs": [
    {
     "name": "stdout",
     "output_type": "stream",
     "text": [
      "7-->0-->8-->None\n"
     ]
    }
   ],
   "source": [
    "arr1 = [2,4,3]\n",
    "arr2 = [5,6,4]\n",
    "\n",
    "L1 = LinkedList()\n",
    "L2 = LinkedList()\n",
    "for i in arr1:\n",
    "    L1.insert(i)\n",
    "for i in arr2:\n",
    "    L2.insert(i)\n",
    "obj = LinkedListOperation()\n",
    "res = obj.addLists(L1.head, L2.head)\n",
    "printList(res)"
   ]
  },
  {
   "cell_type": "code",
   "execution_count": null,
   "id": "4aa3bb67-9318-4075-8b60-7c679f8acaf5",
   "metadata": {},
   "outputs": [],
   "source": []
  }
 ],
 "metadata": {
  "kernelspec": {
   "display_name": "Python 3 (ipykernel)",
   "language": "python",
   "name": "python3"
  },
  "language_info": {
   "codemirror_mode": {
    "name": "ipython",
    "version": 3
   },
   "file_extension": ".py",
   "mimetype": "text/x-python",
   "name": "python",
   "nbconvert_exporter": "python",
   "pygments_lexer": "ipython3",
   "version": "3.10.9"
  }
 },
 "nbformat": 4,
 "nbformat_minor": 5
}
