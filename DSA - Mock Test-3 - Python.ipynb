{
 "cells": [
  {
   "cell_type": "markdown",
   "id": "166fa945-c680-4fb9-8b97-36e4c809c417",
   "metadata": {},
   "source": [
    "## Q1 Implement class Queue using List in python"
   ]
  },
  {
   "cell_type": "code",
   "execution_count": 7,
   "id": "df11100f-3ded-4c3d-beee-8201de607567",
   "metadata": {},
   "outputs": [],
   "source": [
    "class QueuewithList:\n",
    "    def __init__(self):\n",
    "        self.queue = []\n",
    "\n",
    "    def enqueue(self, element):\n",
    "        self.queue.append(element)\n",
    "\n",
    "    def dequeue(self):\n",
    "        if self.isEmpty():\n",
    "            return None\n",
    "        return self.queue.pop(0)\n",
    "\n",
    "    def isEmpty(self):\n",
    "        if len(self.queue) == 0:\n",
    "            return True\n",
    "        else:\n",
    "            return False\n"
   ]
  },
  {
   "cell_type": "code",
   "execution_count": 10,
   "id": "b507d1a6-51f1-4fd6-8bc4-3de96b6fdeaf",
   "metadata": {},
   "outputs": [
    {
     "name": "stdout",
     "output_type": "stream",
     "text": [
      "1\n",
      "False\n",
      "2\n",
      "3\n",
      "4\n",
      "True\n"
     ]
    }
   ],
   "source": [
    "qu = QueuewithList()\n",
    "qu.enqueue(1)\n",
    "qu.enqueue(2)\n",
    "qu.enqueue(3)\n",
    "qu.enqueue(4)\n",
    "print(qu.dequeue())\n",
    "print(qu.isEmpty())\n",
    "print(qu.dequeue())\n",
    "print(qu.dequeue())\n",
    "print(qu.dequeue())\n",
    "print(qu.isEmpty())"
   ]
  },
  {
   "cell_type": "markdown",
   "id": "5b7b94c4-9d37-4e02-ad23-3cabf647b9b5",
   "metadata": {},
   "source": [
    "## Q. Stack implementation using List"
   ]
  },
  {
   "cell_type": "code",
   "execution_count": 11,
   "id": "a6301a3f-e462-466f-8026-8e902f5ffe71",
   "metadata": {},
   "outputs": [],
   "source": [
    "class StackwithList:\n",
    "    def __init__(self):\n",
    "        self.stack = []\n",
    "\n",
    "    def push(self, element):\n",
    "        self.stack.append(element)\n",
    "\n",
    "    def pop(self):\n",
    "        if self.isEmpty():\n",
    "            return None\n",
    "        return self.stack.pop()\n",
    "\n",
    "    def isEmpty(self):\n",
    "        return len(self.stack) == 0\n"
   ]
  },
  {
   "cell_type": "code",
   "execution_count": 13,
   "id": "4b8cf0dd-35ba-4108-8a0a-b74e296ea6d3",
   "metadata": {},
   "outputs": [
    {
     "name": "stdout",
     "output_type": "stream",
     "text": [
      "C\n",
      "False\n",
      "B\n",
      "A\n",
      "True\n"
     ]
    }
   ],
   "source": [
    "stack = StackwithList()\n",
    "stack.push('A')\n",
    "stack.push('B')\n",
    "stack.push('C')\n",
    "print(stack.pop())  \n",
    "print(stack.isEmpty())  \n",
    "print(stack.pop())  \n",
    "print(stack.pop())  \n",
    "print(stack.isEmpty())  "
   ]
  },
  {
   "cell_type": "code",
   "execution_count": null,
   "id": "ce350fd0-2d2d-463e-b36f-1be428c82725",
   "metadata": {},
   "outputs": [],
   "source": []
  }
 ],
 "metadata": {
  "kernelspec": {
   "display_name": "Python 3 (ipykernel)",
   "language": "python",
   "name": "python3"
  },
  "language_info": {
   "codemirror_mode": {
    "name": "ipython",
    "version": 3
   },
   "file_extension": ".py",
   "mimetype": "text/x-python",
   "name": "python",
   "nbconvert_exporter": "python",
   "pygments_lexer": "ipython3",
   "version": "3.10.9"
  }
 },
 "nbformat": 4,
 "nbformat_minor": 5
}
